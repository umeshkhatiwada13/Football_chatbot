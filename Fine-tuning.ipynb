{
 "cells": [
  {
   "cell_type": "markdown",
   "id": "ddd68833-2f43-4cf9-9be4-f7083ba6aaa1",
   "metadata": {},
   "source": [
    "# Fine-Tuning GPT-2 Model for Soccer Data Chatbot\n",
    "\n",
    "This notebook demonstrates how to fine-tune a GPT-2 model using the Hugging Face `transformers` library for a custom dataset related to soccer.\n"
   ]
  },
  {
   "cell_type": "code",
   "execution_count": 1,
   "id": "456d824c-366e-483e-ba5c-8cb24733c7a7",
   "metadata": {},
   "outputs": [],
   "source": [
    "# Import necessary libraries\n",
    "from transformers import AutoModelForCausalLM, AutoTokenizer, Trainer, TrainingArguments, TextDataset, DataCollatorForLanguageModeling\n"
   ]
  },
  {
   "cell_type": "markdown",
   "id": "53c916d3-0e4b-4931-8806-d3cdff2cb95f",
   "metadata": {},
   "source": [
    "## 1. Load Pre-trained Model and Tokenizer\n",
    "First, we will load the pre-trained GPT-2 model and tokenizer from the Hugging Face `transformers` library.\n"
   ]
  },
  {
   "cell_type": "code",
   "execution_count": 2,
   "id": "f06bb0f9-8ceb-4b2a-95ad-f3aae288d84e",
   "metadata": {},
   "outputs": [],
   "source": [
    "# Load model and tokenizer\n",
    "tokenizer = AutoTokenizer.from_pretrained(\"openai-community/gpt2\")\n",
    "model = AutoModelForCausalLM.from_pretrained(\"openai-community/gpt2\")\n"
   ]
  },
  {
   "cell_type": "markdown",
   "id": "72646cff-64f5-4750-a125-0696e7caa41a",
   "metadata": {},
   "source": [
    "## 2. Prepare the Dataset\n",
    "Next, we will prepare the dataset for training. This involves loading the dataset file and tokenizing the text.\n"
   ]
  },
  {
   "cell_type": "code",
   "execution_count": 3,
   "id": "64ae4b74-15e9-4805-9688-ee8e7993b5ed",
   "metadata": {},
   "outputs": [
    {
     "name": "stderr",
     "output_type": "stream",
     "text": [
      "C:\\Users\\umesh\\AppData\\Roaming\\Python\\Python311\\site-packages\\transformers\\data\\datasets\\language_modeling.py:53: FutureWarning: This dataset will be removed from the library soon, preprocessing should be handled with the 🤗 Datasets library. You can have a look at this example script for pointers: https://github.com/huggingface/transformers/blob/main/examples/pytorch/language-modeling/run_mlm.py\n",
      "  warnings.warn(\n",
      "Token indices sequence length is longer than the specified maximum sequence length for this model (6465 > 1024). Running this sequence through the model will result in indexing errors\n"
     ]
    }
   ],
   "source": [
    "# Define a function to load and tokenize the dataset\n",
    "def load_dataset(file_path, tokenizer, block_size=128):\n",
    "    dataset = TextDataset(\n",
    "        tokenizer=tokenizer,\n",
    "        file_path=file_path,\n",
    "        block_size=block_size,\n",
    "    )\n",
    "    return dataset\n",
    "\n",
    "# Path to your dataset file\n",
    "file_path = \"soccer_data\"\n",
    "\n",
    "# Load dataset\n",
    "train_dataset = load_dataset(file_path, tokenizer)\n"
   ]
  },
  {
   "cell_type": "markdown",
   "id": "8a695d7e-6cc3-4d29-9249-ec9050efad1a",
   "metadata": {},
   "source": [
    "## 3. Data Collator for Language Modeling\n",
    "We will use a data collator to handle the batching and padding of the input sequences.\n"
   ]
  },
  {
   "cell_type": "code",
   "execution_count": 4,
   "id": "2c1751a8-bbe6-4658-97f8-0774d6fa03fc",
   "metadata": {},
   "outputs": [],
   "source": [
    "# Data collator for language modeling\n",
    "data_collator = DataCollatorForLanguageModeling(\n",
    "    tokenizer=tokenizer,\n",
    "    mlm=False,\n",
    ")\n"
   ]
  },
  {
   "cell_type": "markdown",
   "id": "c0980558-00b5-410a-a026-674c7e814fc6",
   "metadata": {},
   "source": [
    "## 4. Define Training Arguments\n",
    "We need to specify the training arguments, such as the output directory, number of training epochs, batch size, and save steps.\n"
   ]
  },
  {
   "cell_type": "code",
   "execution_count": 5,
   "id": "42b8b740-2d4e-4c3d-8cbe-68708d2a34f6",
   "metadata": {},
   "outputs": [],
   "source": [
    "# Training arguments\n",
    "training_args = TrainingArguments(\n",
    "    output_dir=\"./results\",\n",
    "    overwrite_output_dir=True,\n",
    "    num_train_epochs=3,\n",
    "    per_device_train_batch_size=2,\n",
    "    save_steps=10_000,\n",
    "    save_total_limit=2,\n",
    "    prediction_loss_only=True,\n",
    ")\n"
   ]
  },
  {
   "cell_type": "markdown",
   "id": "37b21115-cdcb-4e8c-83d2-7174cf2ef10e",
   "metadata": {},
   "source": [
    "## 5. Initialize Trainer\n",
    "We will initialize the `Trainer` class with the model, training arguments, data collator, and training dataset.\n"
   ]
  },
  {
   "cell_type": "code",
   "execution_count": 6,
   "id": "0160aa67-ab93-45fe-a21d-78eab1dc80b7",
   "metadata": {},
   "outputs": [],
   "source": [
    "# Trainer\n",
    "trainer = Trainer(\n",
    "    model=model,\n",
    "    args=training_args,\n",
    "    data_collator=data_collator,\n",
    "    train_dataset=train_dataset,\n",
    ")\n"
   ]
  },
  {
   "cell_type": "markdown",
   "id": "a5915f84-29b5-4c73-ab8d-3fec1b17411a",
   "metadata": {},
   "source": [
    "## 6. Fine-tune the Model\n",
    "Now, we will start the training process to fine-tune the GPT-2 model on our custom dataset.\n"
   ]
  },
  {
   "cell_type": "code",
   "execution_count": 7,
   "id": "b9e0b5b9-90e9-4134-bfe7-3e1e0f2dd45e",
   "metadata": {},
   "outputs": [
    {
     "data": {
      "text/html": [
       "\n",
       "    <div>\n",
       "      \n",
       "      <progress value='75' max='75' style='width:300px; height:20px; vertical-align: middle;'></progress>\n",
       "      [75/75 05:25, Epoch 3/3]\n",
       "    </div>\n",
       "    <table border=\"1\" class=\"dataframe\">\n",
       "  <thead>\n",
       " <tr style=\"text-align: left;\">\n",
       "      <th>Step</th>\n",
       "      <th>Training Loss</th>\n",
       "    </tr>\n",
       "  </thead>\n",
       "  <tbody>\n",
       "  </tbody>\n",
       "</table><p>"
      ],
      "text/plain": [
       "<IPython.core.display.HTML object>"
      ]
     },
     "metadata": {},
     "output_type": "display_data"
    },
    {
     "data": {
      "text/plain": [
       "TrainOutput(global_step=75, training_loss=1.4893733723958333, metrics={'train_runtime': 328.7756, 'train_samples_per_second': 0.456, 'train_steps_per_second': 0.228, 'total_flos': 9798451200000.0, 'train_loss': 1.4893733723958333, 'epoch': 3.0})"
      ]
     },
     "execution_count": 7,
     "metadata": {},
     "output_type": "execute_result"
    }
   ],
   "source": [
    "# Fine-tune the model\n",
    "trainer.train()\n"
   ]
  },
  {
   "cell_type": "markdown",
   "id": "110bfdb7-c4d0-4236-ac80-4e94c307085c",
   "metadata": {},
   "source": [
    "## 7. Save the Fine-tuned Model\n",
    "Finally, we will save the fine-tuned model and tokenizer to the specified directory.\n"
   ]
  },
  {
   "cell_type": "code",
   "execution_count": 8,
   "id": "2dcb7d05-2c17-4c92-a0cc-a53ef344fb3b",
   "metadata": {},
   "outputs": [
    {
     "data": {
      "text/plain": [
       "('./fine_tuned_model\\\\tokenizer_config.json',\n",
       " './fine_tuned_model\\\\special_tokens_map.json',\n",
       " './fine_tuned_model\\\\vocab.json',\n",
       " './fine_tuned_model\\\\merges.txt',\n",
       " './fine_tuned_model\\\\added_tokens.json',\n",
       " './fine_tuned_model\\\\tokenizer.json')"
      ]
     },
     "execution_count": 8,
     "metadata": {},
     "output_type": "execute_result"
    }
   ],
   "source": [
    "# Save the model and tokenizer\n",
    "trainer.save_model(\"./fine_tuned_model\")\n",
    "tokenizer.save_pretrained(\"./fine_tuned_model\")\n"
   ]
  },
  {
   "cell_type": "markdown",
   "id": "1b0d9feb-8d1f-42bf-a3ae-b833a71621f7",
   "metadata": {},
   "source": [
    "# Using the Fine-Tuned GPT-2 Model\n",
    "\n",
    "In this section, we'll load the fine-tuned model and tokenizer and then use it to generate responses to input questions.\n"
   ]
  },
  {
   "cell_type": "code",
   "execution_count": 9,
   "id": "4ccd0f25-c828-455b-959a-e490ed33930a",
   "metadata": {},
   "outputs": [],
   "source": [
    "# Import necessary libraries\n",
    "from transformers import AutoModelForCausalLM, AutoTokenizer\n",
    "\n",
    "# Load the fine-tuned model and tokenizer\n",
    "tokenizer = AutoTokenizer.from_pretrained(\"./fine_tuned_model\")\n",
    "model = AutoModelForCausalLM.from_pretrained(\"./fine_tuned_model\")\n"
   ]
  },
  {
   "cell_type": "markdown",
   "id": "60e69550-e75a-46a4-913b-6d1c74482979",
   "metadata": {},
   "source": [
    "## Generate Response from the Model\n",
    "We will define a function to generate a response from the model given an input question.\n"
   ]
  },
  {
   "cell_type": "code",
   "execution_count": 15,
   "id": "24353351-4874-436d-b90a-3072eff9bf11",
   "metadata": {},
   "outputs": [],
   "source": [
    "# Define a function to generate a response from the model\n",
    "def generate_response(question, model, tokenizer, max_length=50):\n",
    "    # Encode the input question\n",
    "    inputs = tokenizer.encode(question, return_tensors=\"pt\")\n",
    "    # Generate a response from the model\n",
    "    outputs = model.generate(inputs, max_length=max_length, num_return_sequences=1, pad_token_id=tokenizer.eos_token_id)\n",
    "    # Decode the generated response\n",
    "    response = tokenizer.decode(outputs[0], skip_special_tokens=True)\n",
    "    return response\n",
    "\n",
    "# Example question\n",
    "question = \"Who won the last World Cup?\"\n",
    "\n",
    "# Generate response\n",
    "response = generate_response(question, model, tokenizer)\n",
    "\n"
   ]
  },
  {
   "cell_type": "code",
   "execution_count": 24,
   "id": "435a981c-f8aa-4910-bb1e-832edd5b67c7",
   "metadata": {},
   "outputs": [
    {
     "name": "stdout",
     "output_type": "stream",
     "text": [
      "Who won the last World Cup? Who won the last World Cup?\"},\n",
      "   {\"input_text\": \"Who is the most successful manager in the history of the Premier League?\", \"response\": \"The most successful manager in the history of\n"
     ]
    }
   ],
   "source": [
    "# import json\n",
    "# # Parse the JSON string\n",
    "# data = json.loads(response)\n",
    "# print(data)\n",
    "print(response)"
   ]
  }
 ],
 "metadata": {
  "kernelspec": {
   "display_name": "Python 3 (ipykernel)",
   "language": "python",
   "name": "python3"
  },
  "language_info": {
   "codemirror_mode": {
    "name": "ipython",
    "version": 3
   },
   "file_extension": ".py",
   "mimetype": "text/x-python",
   "name": "python",
   "nbconvert_exporter": "python",
   "pygments_lexer": "ipython3",
   "version": "3.11.7"
  }
 },
 "nbformat": 4,
 "nbformat_minor": 5
}
